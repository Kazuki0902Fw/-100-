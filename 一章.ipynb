{
 "cells": [
  {
   "cell_type": "markdown",
   "metadata": {},
   "source": [
    "## 00. 文字列の逆順\n",
    "文字列\"stressed\"の文字を逆に（末尾から先頭に向かって）並べた文字列を得よ．"
   ]
  },
  {
   "cell_type": "code",
   "execution_count": 24,
   "metadata": {},
   "outputs": [
    {
     "data": {
      "text/plain": [
       "'desserts'"
      ]
     },
     "execution_count": 24,
     "metadata": {},
     "output_type": "execute_result"
    }
   ],
   "source": [
    "'stressed'[::-1]"
   ]
  },
  {
   "cell_type": "markdown",
   "metadata": {},
   "source": [
    "## 01. 「パタトクカシーー」\n",
    "「パタトクカシーー」という文字列の1,3,5,7文字目を取り出して連結した文字列を得よ．"
   ]
  },
  {
   "cell_type": "code",
   "execution_count": 41,
   "metadata": {},
   "outputs": [
    {
     "data": {
      "text/plain": [
       "'パトカー'"
      ]
     },
     "execution_count": 41,
     "metadata": {},
     "output_type": "execute_result"
    }
   ],
   "source": [
    "''.join('パタトクカシーー'[i] for i in range(0, 7, 2))"
   ]
  },
  {
   "cell_type": "markdown",
   "metadata": {},
   "source": [
    "## 02. 「パトカー」＋「タクシー」＝「パタトクカシーー」\n",
    "「パトカー」＋「タクシー」の文字を先頭から交互に連結して文字列「パタトクカシーー」を得よ．"
   ]
  },
  {
   "cell_type": "code",
   "execution_count": 42,
   "metadata": {},
   "outputs": [
    {
     "data": {
      "text/plain": [
       "'パタトクカシーー'"
      ]
     },
     "execution_count": 42,
     "metadata": {},
     "output_type": "execute_result"
    }
   ],
   "source": [
    "''.join(i+j for i,j in zip('パトカー', 'タクシー'))"
   ]
  },
  {
   "cell_type": "markdown",
   "metadata": {},
   "source": [
    "## 03. 円周率\n",
    "\"Now I need a drink, alcoholic of course, after the heavy lectures involving quantum mechanics.\"という文を単語に分解し，各単語の（アルファベットの）文字数を先頭から出現順に並べたリストを作成せよ．"
   ]
  },
  {
   "cell_type": "code",
   "execution_count": 38,
   "metadata": {},
   "outputs": [
    {
     "data": {
      "text/plain": [
       "[3, 1, 4, 1, 6, 9, 2, 7, 5, 3, 5, 8, 9, 7, 9]"
      ]
     },
     "execution_count": 38,
     "metadata": {},
     "output_type": "execute_result"
    }
   ],
   "source": [
    "sentence = 'Now I need a drink, alcoholic of course, after the heavy lectures involving quantum mechanics.'\n",
    "words = sentence.strip('.').split(' ')\n",
    "[len(i)for i in words]"
   ]
  },
  {
   "cell_type": "markdown",
   "metadata": {},
   "source": [
    "## 04. 元素記号\n",
    "\"Hi He Lied Because Boron Could Not Oxidize Fluorine. New Nations Might Also Sign Peace Security Clause. Arthur King Can.\"という文を単語に分解し，1, 5, 6, 7, 8, 9, 15, 16, 19番目の単語は先頭の1文字，それ以外の単語は先頭に2文字を取り出し，取り出した文字列から単語の位置（先頭から何番目の単語か）への連想配列（辞書型もしくはマップ型）を作成せよ．"
   ]
  },
  {
   "cell_type": "code",
   "execution_count": 51,
   "metadata": {},
   "outputs": [
    {
     "data": {
      "text/plain": [
       "{'Al': 12,\n",
       " 'Ar': 17,\n",
       " 'Be': 3,\n",
       " 'Bo': 4,\n",
       " 'C': 19,\n",
       " 'F': 8,\n",
       " 'H': 1,\n",
       " 'Hi': 0,\n",
       " 'Ki': 18,\n",
       " 'Li': 2,\n",
       " 'Mi': 11,\n",
       " 'N': 9,\n",
       " 'Na': 10,\n",
       " 'O': 7,\n",
       " 'Pe': 14,\n",
       " 'S': 15,\n",
       " 'Si': 13}"
      ]
     },
     "execution_count": 51,
     "metadata": {},
     "output_type": "execute_result"
    }
   ],
   "source": [
    "sentence = 'Hi He Lied Because Boron Could Not Oxidize Fluorine. New Nations Might Also Sign Peace Security Clause. Arthur King Can.'\n",
    "words = sentence.strip('.').split(' ')\n",
    "nums = [1, 5, 6, 7, 8, 9, 15, 16, 19]\n",
    "ans = {}\n",
    "for i in range(len(words)):\n",
    "    chara = ''\n",
    "    if i in nums: chara = words[i][0]\n",
    "    else: chara = words[i][:2]\n",
    "    ans[chara] = i\n",
    "ans"
   ]
  },
  {
   "cell_type": "markdown",
   "metadata": {},
   "source": [
    "## 05. n-gram\n",
    "与えられたシーケンス（文字列やリストなど）からn-gramを作る関数を作成せよ．この関数を用い，\"I am an NLPer\"という文から単語bi-gram，文字bi-gramを得よ．"
   ]
  },
  {
   "cell_type": "code",
   "execution_count": 6,
   "metadata": {
    "collapsed": true
   },
   "outputs": [],
   "source": [
    "def N_Gram(sequence, n, is_chara=True):\n",
    "    \"\"\"\n",
    "    与えられたsequenceからn-gramをつくる\n",
    "    {\n",
    "    sequence: n-gramの元になるsequenceを与える\n",
    "    n: 分解後の各かたまりの要素数をintで指定\n",
    "    is_chara: 文字でくぎるかどうか。defaultはTrue。Falseだと単語でくぎる。\n",
    "    \"\"\"\n",
    "    n_gram = []\n",
    "    sequence = sequence.split(' ')\n",
    "    \n",
    "    # 文字単位の場合のみ空白なし文字列にしておく\n",
    "    if is_chara:\n",
    "        sequence = ''.join(sequence)\n",
    "   \n",
    "    for i in range(0, len(sequence)-n+1):\n",
    "        block =''\n",
    "        for j in range(0, n):\n",
    "            if not is_chara: block += '['+sequence[i + j]+']'\n",
    "            else: block += sequence[i + j]\n",
    "        n_gram.append(block)\n",
    "        \n",
    "    return set(n_gram)\n"
   ]
  },
  {
   "cell_type": "code",
   "execution_count": 7,
   "metadata": {},
   "outputs": [
    {
     "data": {
      "text/plain": [
       "{'Ia', 'LP', 'NL', 'Pe', 'am', 'an', 'er', 'ma', 'nN'}"
      ]
     },
     "execution_count": 7,
     "metadata": {},
     "output_type": "execute_result"
    }
   ],
   "source": [
    "N_Gram(\"I am an NLPer\", 2)"
   ]
  },
  {
   "cell_type": "markdown",
   "metadata": {
    "collapsed": true
   },
   "source": [
    "## 06. 集合\n",
    "\"paraparaparadise\"と\"paragraph\"に含まれる文字bi-gramの集合を，それぞれ, XとYとして求め，XとYの和集合，積集合，差集合を求めよ．さらに，'se'というbi-gramがXおよびYに含まれるかどうかを調べよ．\n",
    "\n"
   ]
  },
  {
   "cell_type": "code",
   "execution_count": 12,
   "metadata": {},
   "outputs": [
    {
     "name": "stdout",
     "output_type": "stream",
     "text": [
      "X:\n",
      " {'pa', 'ar', 'ad', 'se', 'ap', 'is', 'ra', 'di'}\n",
      "Y:\n",
      " {'pa', 'ar', 'ag', 'ap', 'ra', 'gr', 'ph'}\n",
      "{'pa', 'ar', 'ag', 'ad', 'se', 'ap', 'is', 'ra', 'gr', 'ph', 'di'}\n",
      "{'ar', 'ap', 'pa', 'ra'}\n",
      "{'di', 'is', 'ad', 'se'}\n",
      "True\n",
      "False\n"
     ]
    }
   ],
   "source": [
    "X = N_Gram('paraparaparadise', 2)\n",
    "Y = N_Gram('paragraph', 2)\n",
    "\n",
    "print('X:\\n',X)\n",
    "print('Y:\\n',Y)\n",
    "\n",
    "print(X|Y)\n",
    "print(X&Y)\n",
    "print(X - Y)\n",
    "print('se' in X)\n",
    "print('se' in Y)"
   ]
  },
  {
   "cell_type": "markdown",
   "metadata": {
    "collapsed": true
   },
   "source": [
    "## 07. テンプレートによる文生成\n",
    "引数x, y, zを受け取り「x時のyはz」という文字列を返す関数を実装せよ．さらに，x=12, y=\"気温\", z=22.4として，実行結果を確認せよ．"
   ]
  },
  {
   "cell_type": "code",
   "execution_count": 13,
   "metadata": {},
   "outputs": [
    {
     "data": {
      "text/plain": [
       "'12時の気温は22.4'"
      ]
     },
     "execution_count": 13,
     "metadata": {},
     "output_type": "execute_result"
    }
   ],
   "source": [
    "def return_time_temperature(x, y, z):\n",
    "    return '{}時の{}は{}'.format(str(x), str(y), str(z))\n",
    "\n",
    "return_time_temperature(12, '気温', 22.4)"
   ]
  },
  {
   "cell_type": "markdown",
   "metadata": {},
   "source": [
    "## 08. 暗号文\n",
    "与えられた文字列の各文字を，以下の仕様で変換する関数cipherを実装せよ．\n",
    "\n",
    "英小文字ならば(219 - 文字コード)の文字に置換\n",
    "その他の文字はそのまま出力\n",
    "この関数を用い，英語のメッセージを暗号化・復号化せよ．"
   ]
  },
  {
   "cell_type": "code",
   "execution_count": 30,
   "metadata": {
    "collapsed": true
   },
   "outputs": [],
   "source": [
    "def cipher(string):\n",
    "    ciphered = ''\n",
    "    for i in string:\n",
    "        if i.islower():\n",
    "            ciphered += chr(219-ord(i))\n",
    "        else:\n",
    "            ciphered += i\n",
    "    return ciphered"
   ]
  },
  {
   "cell_type": "code",
   "execution_count": 31,
   "metadata": {},
   "outputs": [
    {
     "name": "stdout",
     "output_type": "stream",
     "text": [
      "oqtzwhop\n",
      "ljgadslk\n"
     ]
    }
   ],
   "source": [
    "encryped = cipher('ljgadslk')\n",
    "print(encryped)\n",
    "original = cipher(encryped)\n",
    "print(original)"
   ]
  },
  {
   "cell_type": "markdown",
   "metadata": {},
   "source": [
    "## 09. Typoglycemia\n",
    "スペースで区切られた単語列に対して，各単語の先頭と末尾の文字は残し，それ以外の文字の順序をランダムに並び替えるプログラムを作成せよ．ただし，長さが４以下の単語は並び替えないこととする．適当な英語の文（例えば\"I couldn't believe that I could actually understand what I was reading : the phenomenal power of the human mind .\"）を与え，その実行結果を確認せよ．"
   ]
  },
  {
   "cell_type": "code",
   "execution_count": 58,
   "metadata": {},
   "outputs": [],
   "source": [
    "def shuffle_c_in_sentence(sentence):\n",
    "    import random\n",
    "    res = ''\n",
    "    words = sentence.split(' ')\n",
    "    for word in words:\n",
    "        if not len(word) <= 4:\n",
    "            word_mid = word[1:-1]\n",
    "            word_mid = ''.join(random.sample(word_mid ,len(word_mid)))\n",
    "            word = word[0] + word_mid + word[-1]\n",
    "        res += word+' '\n",
    "    return res.rstrip()    \n",
    "    "
   ]
  },
  {
   "cell_type": "code",
   "execution_count": 59,
   "metadata": {},
   "outputs": [
    {
     "data": {
      "text/plain": [
       "\"I clod'unt bveleie that I cloud atclulay unndtaserd what I was rndeaig : the peaonnheml pweor of the hamun mind .\""
      ]
     },
     "execution_count": 59,
     "metadata": {},
     "output_type": "execute_result"
    }
   ],
   "source": [
    "shuffle_c_in_sentence(\"I couldn't believe that I could actually understand what I was reading : the phenomenal power of the human mind .\")"
   ]
  },
  {
   "cell_type": "code",
   "execution_count": null,
   "metadata": {
    "collapsed": true
   },
   "outputs": [],
   "source": []
  }
 ],
 "metadata": {
  "kernelspec": {
   "display_name": "Python 3",
   "language": "python",
   "name": "python3"
  },
  "language_info": {
   "codemirror_mode": {
    "name": "ipython",
    "version": 3
   },
   "file_extension": ".py",
   "mimetype": "text/x-python",
   "name": "python",
   "nbconvert_exporter": "python",
   "pygments_lexer": "ipython3",
   "version": "3.6.2"
  }
 },
 "nbformat": 4,
 "nbformat_minor": 2
}
